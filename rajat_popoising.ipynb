{
  "nbformat": 4,
  "nbformat_minor": 0,
  "metadata": {
    "kernelspec": {
      "display_name": "R",
      "language": "R",
      "name": "ir"
    },
    "language_info": {
      "codemirror_mode": "r",
      "file_extension": ".r",
      "mimetype": "text/x-r-source",
      "name": "R",
      "pygments_lexer": "r",
      "version": "3.3.1"
    },
    "colab": {
      "name": "rajat_popoising.ipynb",
      "provenance": [],
      "include_colab_link": true
    }
  },
  "cells": [
    {
      "cell_type": "markdown",
      "metadata": {
        "id": "view-in-github",
        "colab_type": "text"
      },
      "source": [
        "<a href=\"https://colab.research.google.com/github/bathlarajat/examples_tsfresh/blob/master/rajat_popoising.ipynb\" target=\"_parent\"><img src=\"https://colab.research.google.com/assets/colab-badge.svg\" alt=\"Open In Colab\"/></a>"
      ]
    },
    {
      "cell_type": "markdown",
      "metadata": {
        "id": "XGgRb7hQxKw5",
        "colab_type": "text"
      },
      "source": [
        "Code without visible output:"
      ]
    },
    {
      "cell_type": "code",
      "metadata": {
        "id": "WV2gBNrRxKw_",
        "colab_type": "code",
        "outputId": "0f20b5a5-f31d-4c06-b226-19039f65983e",
        "colab": {
          "base_uri": "https://localhost:8080/",
          "height": 68
        }
      },
      "source": [
        "install.packages(\"kernlab\")\n"
      ],
      "execution_count": 0,
      "outputs": [
        {
          "output_type": "stream",
          "text": [
            "Installing package into ‘/usr/local/lib/R/site-library’\n",
            "(as ‘lib’ is unspecified)\n",
            "\n"
          ],
          "name": "stderr"
        }
      ]
    },
    {
      "cell_type": "code",
      "metadata": {
        "id": "M_mwtGn9xKxG",
        "colab_type": "code",
        "outputId": "0f249b3d-6ef6-4a8c-c611-08893b1b9d5e",
        "colab": {
          "base_uri": "https://localhost:8080/",
          "height": 493
        }
      },
      "source": [
        "  #install.packages(kernlab)\n",
        "  install.packages(\"kknn\")\n",
        "  install.packages(\"ggplot2\")\n",
        "  install.packages(\"GGally\")\n",
        "  \n",
        "  library(kernlab)\n",
        "  library(kknn)\n",
        "  library(ggplot2)\n",
        "  library(GGally)"
      ],
      "execution_count": 0,
      "outputs": [
        {
          "output_type": "stream",
          "text": [
            "Installing package into ‘/usr/local/lib/R/site-library’\n",
            "(as ‘lib’ is unspecified)\n",
            "\n",
            "also installing the dependency ‘igraph’\n",
            "\n",
            "\n",
            "Installing package into ‘/usr/local/lib/R/site-library’\n",
            "(as ‘lib’ is unspecified)\n",
            "\n",
            "Installing package into ‘/usr/local/lib/R/site-library’\n",
            "(as ‘lib’ is unspecified)\n",
            "\n",
            "also installing the dependency ‘reshape’\n",
            "\n",
            "\n",
            "\n",
            "Attaching package: ‘ggplot2’\n",
            "\n",
            "\n",
            "The following object is masked from ‘package:kernlab’:\n",
            "\n",
            "    alpha\n",
            "\n",
            "\n",
            "Registered S3 method overwritten by 'GGally':\n",
            "  method from   \n",
            "  +.gg   ggplot2\n",
            "\n"
          ],
          "name": "stderr"
        }
      ]
    },
    {
      "cell_type": "markdown",
      "metadata": {
        "id": "dsv8KGiBxKxL",
        "colab_type": "text"
      },
      "source": [
        "With visible output:"
      ]
    },
    {
      "cell_type": "code",
      "metadata": {
        "id": "plq0FmUrxKxO",
        "colab_type": "code",
        "colab": {}
      },
      "source": [
        " xydata <- read.csv(\"porposing_data_refined.csv\")\n",
        "  \n",
        "  xydata4 <- xydata[,c(5:38,40)]\n",
        "  \n",
        "  \n",
        "  train_index <- sample(1:nrow(xydata4), 0.8 * nrow(xydata4))\n",
        "  test_index <- setdiff(1:nrow(xydata4), train_index)\n",
        "  \n",
        "  \n",
        "  k_nearest <- c(1,10,15)\n",
        "  for( j in k_nearest)\n",
        "  {\n",
        "    knn_classifier <- kknn(porpoisingtime~., xydata4[train_index,], xydata4[test_index,] ,k=j, scale=T)\n",
        "\n",
        "    fit <- as.integer(fitted(knn_classifier)+0.5)\n",
        "    temp <- table(xydata4[test_index,35], fit)\n",
        "    cat(\"Value of k= \", j, \"Prediction accuracy =\", sum(fit == xydata4[test_index,35])/sum(temp) ,\"\\n\")\n",
        "  }\n",
        "  \n",
        "  cor(xydata4, method = \"pearson\", use = \"complete.obs\")\n",
        "  ggpairs(xydata4[,c(2:6,35)])"
      ],
      "execution_count": 0,
      "outputs": []
    }
  ]
}